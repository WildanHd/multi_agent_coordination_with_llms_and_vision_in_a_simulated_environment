{
 "cells": [
  {
   "cell_type": "markdown",
   "id": "91b2f0d8",
   "metadata": {},
   "source": [
    "#### Generate map"
   ]
  },
  {
   "cell_type": "code",
   "execution_count": 4,
   "id": "131bda37",
   "metadata": {},
   "outputs": [
    {
     "name": "stdout",
     "output_type": "stream",
     "text": [
      "Map generated: /Users/wildanhidayat/Documents/GitHub/multi_agent_coordination_with_llms_and_vision_in_a_simulated_environment/assets/generated_maps/map_cycle_1254_186_green_1709_396_people_1532_169.png\n"
     ]
    }
   ],
   "source": [
    "import cv2\n",
    "import random\n",
    "import os\n",
    "import json\n",
    "from PIL import Image\n",
    "\n",
    "# Paths\n",
    "bg_dir = \"/Users/wildanhidayat/Documents/GitHub/multi_agent_coordination_with_llms_and_vision_in_a_simulated_environment/assets/backgrounds\"\n",
    "obj_dir = \"/Users/wildanhidayat/Documents/GitHub/multi_agent_coordination_with_llms_and_vision_in_a_simulated_environment/assets/objects\"\n",
    "save_dir = \"/Users/wildanhidayat/Documents/GitHub/multi_agent_coordination_with_llms_and_vision_in_a_simulated_environment/assets/generated_maps\"\n",
    "os.makedirs(save_dir, exist_ok=True)\n",
    "\n",
    "# Load background\n",
    "bg_files = os.listdir(bg_dir)\n",
    "bg_path = os.path.join(bg_dir, random.choice(bg_files))\n",
    "background = Image.open(bg_path).convert(\"RGBA\")\n",
    "\n",
    "# Load object icons\n",
    "obj_files = os.listdir(obj_dir)\n",
    "selected_objects = random.sample(obj_files, 3)\n",
    "\n",
    "# Initialize metadata file and name suffix\n",
    "object_metadata = []\n",
    "suffix = []\n",
    "\n",
    "# Paste 3 random objects at random locations\n",
    "for obj_file in selected_objects:\n",
    "    obj_path = os.path.join(obj_dir, obj_file)\n",
    "    obj_img = Image.open(obj_path).convert(\"RGBA\")\n",
    "\n",
    "    # Resize object (optional)\n",
    "    obj_img = obj_img.resize((200, 200))\n",
    "\n",
    "    # Random position\n",
    "    x = random.randint(0, background.width - obj_img.width)\n",
    "    y = random.randint(0, background.height - obj_img.height)\n",
    "\n",
    "    # Paste object with transparency\n",
    "    background.paste(obj_img, (x, y), obj_img)\n",
    "\n",
    "    object_metadata.append({\n",
    "        \"object\": os.path.splitext(obj_file)[0],  # e.g., 'tree'\n",
    "        \"position\": {\"x\": x, \"y\": y},\n",
    "        \"size\": {\"width\": obj_img.width, \"height\": obj_img.height}\n",
    "    })\n",
    "\n",
    "    suffix.append(os.path.splitext(obj_file)[0]+\"_\"+str(x)+\"_\"+str(y))\n",
    "\n",
    "# Save the final map\n",
    "name_suf = '_'.join([f for f in suffix])\n",
    "map_name = f\"map_%s\" %(name_suf)\n",
    "\n",
    "map_path = os.path.join(save_dir, f\"{map_name}.png\")\n",
    "map_json_path = os.path.join(save_dir, f\"{map_name}.json\")\n",
    "\n",
    "background.save(map_path)\n",
    "\n",
    "with open(map_json_path, \"w\") as f:\n",
    "    json.dump(object_metadata, f, indent=4)\n",
    "\n",
    "print(f\"Map generated: {map_path}\")"
   ]
  },
  {
   "cell_type": "code",
   "execution_count": 15,
   "id": "3d8e71aa",
   "metadata": {},
   "outputs": [
    {
     "name": "stdout",
     "output_type": "stream",
     "text": [
      "Map and metadata saved!\n"
     ]
    }
   ],
   "source": [
    "import cv2\n",
    "import numpy as np\n",
    "import os\n",
    "import random\n",
    "import json\n",
    "\n",
    "ASSET_PATH = \"/Users/wildanhidayat/Documents/GitHub/multi_agent_coordination_with_llms_and_vision_in_a_simulated_environment/assets/objects\"  # Path to your object PNGs\n",
    "MAP_SAVE_PATH = \"/Users/wildanhidayat/Documents/GitHub/multi_agent_coordination_with_llms_and_vision_in_a_simulated_environment/assets/generated_maps/generated_map.png\"\n",
    "METADATA_SAVE_PATH = \"/Users/wildanhidayat/Documents/GitHub/multi_agent_coordination_with_llms_and_vision_in_a_simulated_environment/assets/generated_maps/generated_map.json\"\n",
    "\n",
    "GRID_SIZE = (5, 5)\n",
    "CELL_SIZE = (64, 64)  # Width, Height in pixels\n",
    "\n",
    "def load_object_images(asset_path):\n",
    "    object_files = [f for f in os.listdir(asset_path) if f.endswith(\".png\")]\n",
    "    object_types = list(set(f.split(\".\")[0] for f in object_files))\n",
    "    selected_types = random.sample(object_types, k=3)\n",
    "    \n",
    "    objects = {}\n",
    "    for t in selected_types:\n",
    "        img_path = os.path.join(asset_path, t + \".png\")\n",
    "        img = cv2.imread(img_path, cv2.IMREAD_UNCHANGED)\n",
    "        if img is not None:\n",
    "            img = cv2.resize(img, CELL_SIZE)\n",
    "            objects[t] = img\n",
    "    return objects\n",
    "\n",
    "def paste_object(canvas, obj_img, x, y):\n",
    "    if obj_img.shape[2] == 4:\n",
    "        alpha = obj_img[:, :, 3] / 255.0\n",
    "        for c in range(3):\n",
    "            canvas[y:y+CELL_SIZE[1], x:x+CELL_SIZE[0], c] = (\n",
    "                alpha * obj_img[:, :, c] +\n",
    "                (1 - alpha) * canvas[y:y+CELL_SIZE[1], x:x+CELL_SIZE[0], c]\n",
    "            )\n",
    "    else:\n",
    "        canvas[y:y+CELL_SIZE[1], x:x+CELL_SIZE[0]] = obj_img\n",
    "\n",
    "def draw_grid(canvas):\n",
    "    rows, cols = GRID_SIZE\n",
    "    for r in range(1, rows):\n",
    "        y = r * CELL_SIZE[1]\n",
    "        cv2.line(canvas, (0, y), (canvas.shape[1], y), (200, 200, 200), 1)\n",
    "    for c in range(1, cols):\n",
    "        x = c * CELL_SIZE[0]\n",
    "        cv2.line(canvas, (x, 0), (x, canvas.shape[0]), (200, 200, 200), 1)\n",
    "\n",
    "def create_map():\n",
    "    rows, cols = GRID_SIZE\n",
    "\n",
    "    canvas = np.ones((rows * CELL_SIZE[1], cols * CELL_SIZE[0], 3), dtype=np.uint8) * 255\n",
    "    draw_grid(canvas)\n",
    "\n",
    "    metadata = {\"start\": None, \"finish\": None, \"objects\": []}\n",
    "\n",
    "    available_cells = [(r, c) for r in range(rows) for c in range(cols)]\n",
    "\n",
    "    # Randomly assign start and finish\n",
    "    start = random.choice(available_cells)\n",
    "    available_cells.remove(start)\n",
    "\n",
    "    finish = random.choice(available_cells)\n",
    "    available_cells.remove(finish)\n",
    "\n",
    "    metadata[\"start\"] = {\"row\": start[0], \"col\": start[1]}\n",
    "    metadata[\"finish\"] = {\"row\": finish[0], \"col\": finish[1]}\n",
    "\n",
    "    # Draw start (green) and finish (red)\n",
    "    start_img = np.full((*CELL_SIZE, 3), (0, 0, 0), dtype=np.uint8)\n",
    "    finish_img = np.full((*CELL_SIZE, 3), (255, 0, 0), dtype=np.uint8)\n",
    "\n",
    "    paste_object(canvas, start_img, start[1] * CELL_SIZE[0], start[0] * CELL_SIZE[1])\n",
    "    paste_object(canvas, finish_img, finish[1] * CELL_SIZE[0], finish[0] * CELL_SIZE[1])\n",
    "\n",
    "    # Load 3 random object types\n",
    "    objects = load_object_images(ASSET_PATH)\n",
    "\n",
    "    for obj_type, obj_img in objects.items():\n",
    "        cell = random.choice(available_cells)\n",
    "        available_cells.remove(cell)\n",
    "        paste_object(canvas, obj_img, cell[1] * CELL_SIZE[0], cell[0] * CELL_SIZE[1])\n",
    "        metadata[\"objects\"].append({\"type\": obj_type, \"row\": cell[0], \"col\": cell[1]})\n",
    "\n",
    "    # Save map and metadata\n",
    "    os.makedirs(\"maps\", exist_ok=True)\n",
    "    cv2.imwrite(MAP_SAVE_PATH, canvas)\n",
    "    with open(METADATA_SAVE_PATH, \"w\") as f:\n",
    "        json.dump(metadata, f, indent=2)\n",
    "\n",
    "    print(\"Map and metadata saved!\")\n",
    "\n",
    "if __name__ == \"__main__\":\n",
    "    create_map()"
   ]
  },
  {
   "cell_type": "markdown",
   "id": "6fd12423",
   "metadata": {},
   "source": [
    "#### HHHH"
   ]
  },
  {
   "cell_type": "code",
   "execution_count": 1,
   "id": "f4224609",
   "metadata": {},
   "outputs": [
    {
     "ename": "IndexError",
     "evalue": "list index out of range",
     "output_type": "error",
     "traceback": [
      "\u001b[0;31m---------------------------------------------------------------------------\u001b[0m",
      "\u001b[0;31mIndexError\u001b[0m                                Traceback (most recent call last)",
      "Cell \u001b[0;32mIn[1], line 26\u001b[0m\n\u001b[1;32m     23\u001b[0m map_images \u001b[38;5;241m=\u001b[39m list_image_files(map_folder)\n\u001b[1;32m     25\u001b[0m \u001b[38;5;66;03m# Choose one map randomly\u001b[39;00m\n\u001b[0;32m---> 26\u001b[0m map_file \u001b[38;5;241m=\u001b[39m \u001b[43mrandom\u001b[49m\u001b[38;5;241;43m.\u001b[39;49m\u001b[43mchoice\u001b[49m\u001b[43m(\u001b[49m\u001b[43mmap_images\u001b[49m\u001b[43m)\u001b[49m  \n\u001b[1;32m     28\u001b[0m \u001b[38;5;66;03m# Define the map path\u001b[39;00m\n\u001b[1;32m     29\u001b[0m full_path \u001b[38;5;241m=\u001b[39m os\u001b[38;5;241m.\u001b[39mpath\u001b[38;5;241m.\u001b[39mjoin(map_folder, map_file)\n",
      "File \u001b[0;32m/usr/local/Cellar/python@3.9/3.9.18_1/Frameworks/Python.framework/Versions/3.9/lib/python3.9/random.py:346\u001b[0m, in \u001b[0;36mRandom.choice\u001b[0;34m(self, seq)\u001b[0m\n\u001b[1;32m    344\u001b[0m \u001b[38;5;250m\u001b[39m\u001b[38;5;124;03m\"\"\"Choose a random element from a non-empty sequence.\"\"\"\u001b[39;00m\n\u001b[1;32m    345\u001b[0m \u001b[38;5;66;03m# raises IndexError if seq is empty\u001b[39;00m\n\u001b[0;32m--> 346\u001b[0m \u001b[38;5;28;01mreturn\u001b[39;00m \u001b[43mseq\u001b[49m\u001b[43m[\u001b[49m\u001b[38;5;28;43mself\u001b[39;49m\u001b[38;5;241;43m.\u001b[39;49m\u001b[43m_randbelow\u001b[49m\u001b[43m(\u001b[49m\u001b[38;5;28;43mlen\u001b[39;49m\u001b[43m(\u001b[49m\u001b[43mseq\u001b[49m\u001b[43m)\u001b[49m\u001b[43m)\u001b[49m\u001b[43m]\u001b[49m\n",
      "\u001b[0;31mIndexError\u001b[0m: list index out of range"
     ]
    }
   ],
   "source": [
    "import cv2\n",
    "import os\n",
    "import random\n",
    "\n",
    "def list_image_files(folder_path, extensions={'.png', '.jpg', '.jpeg'}):\n",
    "    return [\n",
    "        f for f in os.listdir(folder_path)\n",
    "        if os.path.isfile(os.path.join(folder_path, f)) and os.path.splitext(f)[1].lower() in extensions\n",
    "    ]\n",
    "\n",
    "def load_and_display_map(map_path):\n",
    "    img = cv2.imread(map_path)\n",
    "    if img is None:\n",
    "        raise ValueError(f\"Cannot load image at {map_path}\")\n",
    "    cv2.imshow(\"Simulation Environment\", img)\n",
    "    cv2.waitKey(0)\n",
    "    cv2.destroyAllWindows()\n",
    "\n",
    "if __name__ == \"__main__\":\n",
    "    map_folder = \"/Users/wildanhidayat/Documents/GitHub/multi_agent_coordination_with_llms_and_vision_in_a_simulated_environment/assets/generated_maps\"\n",
    "    \n",
    "    # Import all map file name\n",
    "    map_images = list_image_files(map_folder)\n",
    "    \n",
    "    # Choose one map randomly\n",
    "    map_file = random.choice(map_images)  \n",
    "\n",
    "    # Define the map path\n",
    "    full_path = os.path.join(map_folder, map_file)\n",
    "\n",
    "    # Load and display the selected map\n",
    "    load_and_display_map(full_path)"
   ]
  },
  {
   "cell_type": "code",
   "execution_count": 5,
   "id": "4e00d80d",
   "metadata": {},
   "outputs": [
    {
     "data": {
      "text/plain": [
       "'map_car_40_46_tree_207_217_cycle_1182_479.png'"
      ]
     },
     "execution_count": 5,
     "metadata": {},
     "output_type": "execute_result"
    }
   ],
   "source": [
    "import random\n",
    "random.choice(object_images)"
   ]
  },
  {
   "cell_type": "code",
   "execution_count": null,
   "id": "36a6ff21",
   "metadata": {},
   "outputs": [],
   "source": []
  }
 ],
 "metadata": {
  "kernelspec": {
   "display_name": "Python 3",
   "language": "python",
   "name": "python3"
  },
  "language_info": {
   "codemirror_mode": {
    "name": "ipython",
    "version": 3
   },
   "file_extension": ".py",
   "mimetype": "text/x-python",
   "name": "python",
   "nbconvert_exporter": "python",
   "pygments_lexer": "ipython3",
   "version": "3.9.18"
  }
 },
 "nbformat": 4,
 "nbformat_minor": 5
}
